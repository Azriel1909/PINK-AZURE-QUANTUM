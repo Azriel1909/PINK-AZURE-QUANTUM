{
  "cells": [
    {
      "cell_type": "markdown",
      "metadata": {
        "id": "Q4qzkpo5Pa44"
      },
      "source": [
        "# **Lab #3: Quantum Key Distribution** <br>\n",
        "## **Microsoft Winter School, February 11th 2023**\n",
        "\n",
        "### **Summary**\n",
        "\n",
        "In today's lab, we are going to implement the Quantum Key Distribution protocol BB84 in Q#.\n",
        "\n",
        "<br>\n",
        "\n",
        "### **Learning Objectives**\n",
        "* See how to run the same code with the local simulator, execute on a simulator, and excecute on real quantum hardware.\n",
        "* See how BB84 can be implemented in code.\n",
        "* Become familiar with the roles that Alice, Bob, and Eve all play in this protocol."
      ]
    },
    {
      "cell_type": "markdown",
      "metadata": {
        "id": "C48Ud0XQPa5F",
        "nteract": {
          "transient": {
            "deleting": false
          }
        }
      },
      "source": [
        "## **Part #0: Imports**\n",
        "---"
      ]
    },
    {
      "cell_type": "markdown",
      "metadata": {
        "id": "JT2rrkmAPa5G",
        "nteract": {
          "transient": {
            "deleting": false
          }
        }
      },
      "source": [
        "**Run the code below to open the necessary namespaces.**"
      ]
    },
    {
      "cell_type": "code",
      "execution_count": 1,
      "metadata": {
        "id": "GIYJ1ahOlkwa",
        "jupyter": {
          "outputs_hidden": false,
          "source_hidden": false
        },
        "microsoft": {},
        "nteract": {
          "transient": {
            "deleting": false
          }
        }
      },
      "outputs": [
        {
          "name": "stdout",
          "output_type": "stream",
          "text": [
            "Preparing Q# environment...\n"
          ]
        },
        {
          "data": {
            "application/x-qsharp-data": "\"Connecting to Azure Quantum...\"",
            "text/plain": [
              "Connecting to Azure Quantum..."
            ]
          },
          "metadata": {},
          "output_type": "display_data"
        },
        {
          "name": "stdout",
          "output_type": "stream",
          "text": [
            "Authenticated using Microsoft.Azure.Quantum.Authentication.TokenFileCredential\n",
            "\n",
            "\n",
            "Connected to Azure Quantum workspace qxqwinterschoolXimenaToledo-Rivera in location westus.\n",
            "Loading package Microsoft.Quantum.Providers.IonQ and dependencies...\n",
            "Active target is now ionq.simulator\n"
          ]
        }
      ],
      "source": [
        "from matplotlib import pyplot\n",
        "import numpy as np\n",
        "from random import choices\n",
        "import json\n",
        "\n",
        "import qsharp.azure\n",
        "import qsharp\n",
        "\n",
        "\n",
        "# Connect to available targets\n",
        "# If you type \"qsharp\", you will see a pop-up that allows you to insert this \"connect\" command automatically.\n",
        "targets = qsharp.azure.connect(\n",
        "    resourceId=\"/subscriptions/21c6a9db-b486-4a51-bdff-666a21006135/resourceGroups/AzureQuantum/providers/Microsoft.Quantum/Workspaces/qxqwinterschoolXimenaToledo-Rivera\",\n",
        "    location=\"westus\")\n",
        "import qsharp.azure\n",
        "\n",
        "\n",
        "# Set the target to ionq.simulator\n",
        "qsharp.azure.target(\"ionq.simulator\")\n",
        "\n",
        "\n",
        "# Helper function to pick one result according to the distribution of all results\n",
        "def pickResult(results):\n",
        "\n",
        "    probs = list(results.values())\n",
        "    bits = choices(list(results.keys()), weights = probs)[0]\n",
        "\n",
        "    return json.loads(bits)"
      ]
    },
    {
      "cell_type": "code",
      "execution_count": 2,
      "metadata": {
        "collapsed": true,
        "id": "FrxdvYCrPa5G",
        "jupyter": {
          "outputs_hidden": false,
          "source_hidden": false
        },
        "microsoft": {
          "language": "qsharp"
        },
        "nteract": {
          "transient": {
            "deleting": false
          }
        }
      },
      "outputs": [],
      "source": [
        "%%qsharp\n",
        "\n",
        "open Microsoft.Quantum.Arrays;\n",
        "open Microsoft.Quantum.Measurement;\n",
        "open Microsoft.Quantum.Random;\n",
        "open Microsoft.Quantum.Convert;"
      ]
    },
    {
      "cell_type": "markdown",
      "metadata": {
        "id": "A5d-xhw4lkwb",
        "nteract": {
          "transient": {
            "deleting": false
          }
        }
      },
      "source": [
        "## **Part 1: Warm-up**\n",
        "---\n",
        "\n",
        "Let's start by doing a few exercises that will help us write the code for QKD and understand what is happening throughout."
      ]
    },
    {
      "cell_type": "markdown",
      "metadata": {
        "id": "ZUd_nC7ZPa5X",
        "nteract": {
          "transient": {
            "deleting": false
          }
        }
      },
      "source": [
        "### **Exercise #1** \n",
        "**Together**, let's:\n",
        "1. Prepare a qubit in the $| + \\rangle $ state. This simulates Alice encoding a bit from her key that is 0 into a qubit and randomly selecting to put it into superposition.\n",
        "2. Make a measurement. This simulates Bob measuring the qubit without taking it out of superposition. He incorrectly guessed what Alice did for this bit."
      ]
    },
    {
      "cell_type": "markdown",
      "metadata": {
        "id": "g2fAq-uoZRbP",
        "nteract": {
          "transient": {
            "deleting": false
          }
        }
      },
      "source": [
        "#### **1. Declare the operation in python.**\n",
        "\n",
        "Let's call it `ExerciseOne`."
      ]
    },
    {
      "cell_type": "code",
      "execution_count": 3,
      "metadata": {
        "id": "gacVq0drc7M7"
      },
      "outputs": [],
      "source": [
        "ExerciseOne : any = None"
      ]
    },
    {
      "cell_type": "markdown",
      "metadata": {
        "id": "psnViJCQZRbP",
        "nteract": {
          "transient": {
            "deleting": false
          }
        }
      },
      "source": [
        "#### **2. Create the operation in Q#.**"
      ]
    },
    {
      "cell_type": "code",
      "execution_count": 4,
      "metadata": {
        "id": "YCdusz_idAJT",
        "microsoft": {
          "language": "qsharp"
        }
      },
      "outputs": [],
      "source": [
        "%%qsharp\n",
        "\n",
        "operation ExerciseOne() : Result {\n",
        "\n",
        "    // Alice encodes a 0 into a qubit\n",
        "    use q = Qubit();\n",
        "\n",
        "    // Alice puts this qubit into superposition\n",
        "    H(q);\n",
        "\n",
        "    // Bob receives the qubit and measures it without taking it out superposition\n",
        "    return M(q);\n",
        "}"
      ]
    },
    {
      "cell_type": "markdown",
      "metadata": {
        "id": "JmKaUPBeZRbP",
        "nteract": {
          "transient": {
            "deleting": false
          }
        }
      },
      "source": [
        "#### **3. Simulate the operation in python and visualize.**\n",
        "\n",
        "**Run the code below to simulate this exercise and see the distribution of measurement results.**"
      ]
    },
    {
      "cell_type": "code",
      "execution_count": 5,
      "metadata": {
        "id": "twgAMa48lkwb",
        "jupyter": {
          "outputs_hidden": false,
          "source_hidden": false
        },
        "microsoft": {},
        "nteract": {
          "transient": {
            "deleting": false
          }
        }
      },
      "outputs": [
        {
          "name": "stdout",
          "output_type": "stream",
          "text": [
            "Submitting ExerciseOne to target ionq.simulator...\n",
            "Job successfully submitted.\n",
            "   Job name: Exercise #1\n",
            "   Job ID: 736bec7b-2723-41f5-9c5e-e08bcf1bee98\n",
            "Waiting up to 240 seconds for Azure Quantum job to complete...\n",
            "[19:35:51] Current job status: Waiting\n",
            "[19:35:56] Current job status: Succeeded\n"
          ]
        },
        {
          "data": {
            "image/png": "[encoded data removed]",
            "text/plain": [
              "<Figure size 640x480 with 1 Axes>"
            ]
          },
          "metadata": {},
          "output_type": "display_data"
        }
      ],
      "source": [
        "result = qsharp.azure.execute(ExerciseOne, shots=100, jobName=\"Exercise #1\", timeout=240)\n",
        "\n",
        "pyplot.bar(result.keys(), result.values())\n",
        "pyplot.title(\"Result\")\n",
        "pyplot.xlabel(\"Measurement\")\n",
        "pyplot.ylabel(\"Probability\")\n",
        "\n",
        "pyplot.show()"
      ]
    },
    {
      "cell_type": "markdown",
      "metadata": {
        "id": "u4H1LnvJlkwc",
        "nteract": {
          "transient": {
            "deleting": false
          }
        }
      },
      "source": [
        "### **Exercise #2** \n",
        "\n",
        "**Together**, let's:\n",
        "1. Prepare a qubit in the $| + \\rangle $ state. This simulates Alice encoding a bit from her key that is 0 into a qubit and randomly selecting to put it into superposition.\n",
        "2. Apply the H gate. This simulates Bob correctly guessing what Alice did for this qubit and taking it out of superposition.\n",
        "3. Make a measurement. This simulates Bob measuring the qubit to decode this bit of the key."
      ]
    },
    {
      "cell_type": "markdown",
      "metadata": {
        "id": "HhWNkBUJdbRK",
        "nteract": {
          "transient": {
            "deleting": false
          }
        }
      },
      "source": [
        "#### **1. Declare the operation in python.**\n",
        "\n",
        "Let's call it `ExerciseTwo`."
      ]
    },
    {
      "cell_type": "code",
      "execution_count": 6,
      "metadata": {
        "id": "HgBSqzNLdbRL"
      },
      "outputs": [],
      "source": [
        "ExerciseTwo : any = None"
      ]
    },
    {
      "cell_type": "markdown",
      "metadata": {
        "id": "dQlNGCmEdbRL",
        "nteract": {
          "transient": {
            "deleting": false
          }
        }
      },
      "source": [
        "#### **2. Create the operation in Q#.**"
      ]
    },
    {
      "cell_type": "code",
      "execution_count": 7,
      "metadata": {
        "id": "-kiVlQ0GdeGw",
        "microsoft": {
          "language": "qsharp"
        }
      },
      "outputs": [],
      "source": [
        "%%qsharp\n",
        "\n",
        "operation ExerciseTwo() : Result {\n",
        "\n",
        "    // Alice encodes a 0 into a qubit\n",
        "    use q = Qubit();\n",
        "\n",
        "    // Alice puts this qubit into superposition\n",
        "    H(q);\n",
        "\n",
        "    // Bob receives the qubit and takes it out of superposition\n",
        "    H(q);\n",
        "\n",
        "    // Bob measures the qubit\n",
        "    return M(q); \n",
        "}"
      ]
    },
    {
      "cell_type": "markdown",
      "metadata": {
        "id": "RwZqn2W6duVA",
        "nteract": {
          "transient": {
            "deleting": false
          }
        }
      },
      "source": [
        "#### **3. Simulate the operation in python and visualize.**\n",
        "\n",
        "**Run the code below to simulate this exercise and see the distribution of measurement results.**"
      ]
    },
    {
      "cell_type": "code",
      "execution_count": 8,
      "metadata": {
        "id": "mVeDrZI9lkwc",
        "jupyter": {
          "outputs_hidden": false,
          "source_hidden": false
        },
        "microsoft": {},
        "nteract": {
          "transient": {
            "deleting": false
          }
        }
      },
      "outputs": [
        {
          "name": "stdout",
          "output_type": "stream",
          "text": [
            "Submitting ExerciseTwo to target ionq.simulator...\n",
            "Job successfully submitted.\n",
            "   Job name: Exercise #2\n",
            "   Job ID: 38ea99d1-8d42-4313-b981-db27e4c0c851\n",
            "Waiting up to 240 seconds for Azure Quantum job to complete...\n",
            "[19:38:50] Current job status: Waiting\n",
            "[19:38:55] Current job status: Succeeded\n"
          ]
        },
        {
          "data": {
            "image/png": "[encoded data removed]",
            "text/plain": [
              "<Figure size 640x480 with 1 Axes>"
            ]
          },
          "metadata": {},
          "output_type": "display_data"
        }
      ],
      "source": [
        "result = qsharp.azure.execute(ExerciseTwo, shots=100, jobName=\"Exercise #2\", timeout=240)\n",
        "\n",
        "pyplot.bar(result.keys(), result.values())\n",
        "pyplot.title(\"Result\")\n",
        "pyplot.xlabel(\"Measurement\")\n",
        "pyplot.ylabel(\"Probability\")\n",
        "\n",
        "pyplot.show()"
      ]
    },
    {
      "cell_type": "markdown",
      "metadata": {
        "id": "23W3wftRlkwc",
        "nteract": {
          "transient": {
            "deleting": false
          }
        }
      },
      "source": [
        "### **Exercise #3**\n",
        "\n",
        "**Independently**, \n",
        "1. Prepare a qubit in the $| 0 \\rangle$ state. This simulates Alice encoding a bit from her key that is 0 into a qubit and randomly selecting *not* to put it into superposition.\n",
        "2. Apply the H gate. This simulates Bob incorrectly guessing what Alice did for this qubit and accidentally putting it into superposition.\n",
        "3. Make a measurement. This simulates Bob measuring the qubit to decode this bit of the key."
      ]
    },
    {
      "cell_type": "markdown",
      "metadata": {
        "id": "EDQPqmfGdyiW",
        "nteract": {
          "transient": {
            "deleting": false
          }
        }
      },
      "source": [
        "#### **1. Declare the operation in python.**\n",
        "\n",
        "Let's call it `ExerciseThree`."
      ]
    },
    {
      "cell_type": "code",
      "execution_count": 9,
      "metadata": {
        "id": "pFpK5gX5dyiX"
      },
      "outputs": [],
      "source": [
        "ExerciseThree : any = None"
      ]
    },
    {
      "cell_type": "markdown",
      "metadata": {
        "id": "uM0DiZiadyiX",
        "nteract": {
          "transient": {
            "deleting": false
          }
        }
      },
      "source": [
        "#### **2. Create the operation in Q#.**"
      ]
    },
    {
      "cell_type": "code",
      "execution_count": 10,
      "metadata": {
        "id": "X4JCD-TxdyiX",
        "microsoft": {
          "language": "qsharp"
        }
      },
      "outputs": [],
      "source": [
        "%%qsharp\n",
        "\n",
        "operation ExerciseThree() : Result {\n",
        "   \n",
        "    // Alice encodes a 0 into a qubit\n",
        "    use q = Qubit();\n",
        "\n",
        "    // Alice does not put this qubit into superposition\n",
        "    \n",
        "\n",
        "    // Bob receives the qubit and incorrectly tries to take it out of superposition\n",
        "    H(q);\n",
        "\n",
        "    // Bob measures the qubit\n",
        "    return M(q);\n",
        "    \n",
        "}"
      ]
    },
    {
      "cell_type": "markdown",
      "metadata": {
        "id": "g38Snldyd7Kv",
        "nteract": {
          "transient": {
            "deleting": false
          }
        }
      },
      "source": [
        "#### **3. Simulate the operation in python and visualize.**\n",
        "\n",
        "**Run the code below to simulate this exercise and see the distribution of measurement results.**"
      ]
    },
    {
      "cell_type": "code",
      "execution_count": 11,
      "metadata": {
        "id": "cPzhd9kDlkwc",
        "jupyter": {
          "outputs_hidden": false,
          "source_hidden": false
        },
        "nteract": {
          "transient": {
            "deleting": false
          }
        }
      },
      "outputs": [
        {
          "name": "stdout",
          "output_type": "stream",
          "text": [
            "Submitting ExerciseThree to target ionq.simulator...\n",
            "Job successfully submitted.\n",
            "   Job name: Exercise #3\n",
            "   Job ID: 3c4c129a-cb37-4aea-a56f-6ac77a67036a\n",
            "Waiting up to 240 seconds for Azure Quantum job to complete...\n",
            "[19:40:55] Current job status: Waiting\n",
            "[19:41:00] Current job status: Succeeded\n"
          ]
        },
        {
          "data": {
            "image/png": "[encoded data removed]",
            "text/plain": [
              "<Figure size 640x480 with 1 Axes>"
            ]
          },
          "metadata": {},
          "output_type": "display_data"
        }
      ],
      "source": [
        "result = qsharp.azure.execute(ExerciseThree, shots=100, jobName=\"Exercise #3\", timeout=240)\n",
        "\n",
        "pyplot.bar(result.keys(), result.values())\n",
        "pyplot.title(\"Result\")\n",
        "pyplot.xlabel(\"Measurement\")\n",
        "pyplot.ylabel(\"Probability\")\n",
        "\n",
        "pyplot.show()"
      ]
    },
    {
      "cell_type": "markdown",
      "metadata": {
        "id": "uYP6-FBAlkwd",
        "nteract": {
          "transient": {
            "deleting": false
          }
        }
      },
      "source": [
        "### **Exercise #4** \n",
        "\n",
        "**Independently**, \n",
        "1. Prepare a qubit in the $| - \\rangle$ state. This simulates Alice encoding a bit from her key that is 1 into a qubit and randomly selecting to put it into superposition.\n",
        "2. Apply the H gate. This simulates Bob correctly guessing what Alice did for this qubit and taking it out of superposition.\n",
        "3. Make a measurement. This simulates Bob measuring the qubit to decode this bit of the key."
      ]
    },
    {
      "cell_type": "markdown",
      "metadata": {
        "id": "usLrjJYhd_dT",
        "nteract": {
          "transient": {
            "deleting": false
          }
        }
      },
      "source": [
        "#### **1. Declare the operation in python.**\n",
        "\n",
        "Let's call it `ExerciseFour`."
      ]
    },
    {
      "cell_type": "code",
      "execution_count": 12,
      "metadata": {
        "id": "I6h0-eJqd_dT"
      },
      "outputs": [],
      "source": [
        "ExerciseFour : any = None"
      ]
    },
    {
      "cell_type": "markdown",
      "metadata": {
        "id": "rRBvjxHdd_dU",
        "nteract": {
          "transient": {
            "deleting": false
          }
        }
      },
      "source": [
        "#### **2. Create the operation in Q#.**"
      ]
    },
    {
      "cell_type": "code",
      "execution_count": 13,
      "metadata": {
        "id": "PqFHz0_8d_dU",
        "microsoft": {
          "language": "qsharp"
        }
      },
      "outputs": [],
      "source": [
        "%%qsharp\n",
        "\n",
        "operation ExerciseFour() : Result {\n",
        "   \n",
        "    // Alice encodes a 1 into a qubit\n",
        "    use q = Qubit();\n",
        "    X(q);\n",
        "\n",
        "    // Alice does puts this qubit into superposition\n",
        "    H(q);\n",
        "\n",
        "    // Bob receives the qubit and correctly takes it out of superposition\n",
        "    H(q);\n",
        "\n",
        "    // Bob measures the qubit\n",
        "    return M(q);\n",
        "    \n",
        "}"
      ]
    },
    {
      "cell_type": "markdown",
      "metadata": {
        "id": "MRyVEyPid82Z",
        "nteract": {
          "transient": {
            "deleting": false
          }
        }
      },
      "source": [
        "#### **3. Simulate the operation in python and visualize.**\n",
        "\n",
        "**Run the code below to simulate this exercise and see the distribution of measurement results.**"
      ]
    },
    {
      "cell_type": "code",
      "execution_count": 14,
      "metadata": {
        "id": "ScNnfc8Llkwd",
        "jupyter": {
          "outputs_hidden": false,
          "source_hidden": false
        },
        "nteract": {
          "transient": {
            "deleting": false
          }
        }
      },
      "outputs": [
        {
          "name": "stdout",
          "output_type": "stream",
          "text": [
            "Submitting ExerciseFour to target ionq.simulator...\n",
            "Job successfully submitted.\n",
            "   Job name: Exercise #4\n",
            "   Job ID: f77df799-980c-48f5-8072-f5e770ca8714\n",
            "Waiting up to 240 seconds for Azure Quantum job to complete...\n",
            "[19:42:47] Current job status: Waiting\n",
            "[19:42:52] Current job status: Succeeded\n"
          ]
        },
        {
          "data": {
            "image/png": "[encoded data removed]",
            "text/plain": [
              "<Figure size 640x480 with 1 Axes>"
            ]
          },
          "metadata": {},
          "output_type": "display_data"
        }
      ],
      "source": [
        "result = qsharp.azure.execute(ExerciseFour, shots=100, jobName=\"Exercise #4\", timeout=240)\n",
        "\n",
        "pyplot.bar(result.keys(), result.values())\n",
        "pyplot.title(\"Result\")\n",
        "pyplot.xlabel(\"Measurement\")\n",
        "pyplot.ylabel(\"Probability\")\n",
        "\n",
        "pyplot.show()"
      ]
    },
    {
      "cell_type": "markdown",
      "metadata": {
        "id": "nvMRBH7Glkwd",
        "nteract": {
          "transient": {
            "deleting": false
          }
        }
      },
      "source": [
        "### **Exercise #5** \n",
        "\n",
        "**Together**, let's:\n",
        "1. Prepare an array of 5 qubits all in the $| 1 \\rangle$ state. This simulates Alice preparing and sending 5 qubits representing the key 11111 and randomly selecting to put no qubits into superposition.\n",
        "2. Measure all the qubits. This simulates Bob correctly guessing that none of the qubits were put into superposition and decoding them."
      ]
    },
    {
      "cell_type": "markdown",
      "metadata": {
        "id": "S2gtH9e6eOgO",
        "nteract": {
          "transient": {
            "deleting": false
          }
        }
      },
      "source": [
        "#### **1. Declare the operation in python.**\n",
        "\n",
        "Let's call it `ExerciseFive`."
      ]
    },
    {
      "cell_type": "code",
      "execution_count": 15,
      "metadata": {
        "id": "u2Ve7wR2eOgP"
      },
      "outputs": [],
      "source": [
        "ExerciseFive : any = None"
      ]
    },
    {
      "cell_type": "markdown",
      "metadata": {
        "id": "ckI6aoHyeOgP",
        "nteract": {
          "transient": {
            "deleting": false
          }
        }
      },
      "source": [
        "#### **2. Create the operation in Q#.**"
      ]
    },
    {
      "cell_type": "code",
      "execution_count": 16,
      "metadata": {
        "id": "6ZVyBHT5eOgP",
        "microsoft": {
          "language": "qsharp"
        }
      },
      "outputs": [],
      "source": [
        "%%qsharp\n",
        "\n",
        "operation ExerciseFive() : Result[] {\n",
        "   \n",
        "    // Alice encodes a 1 into 5 qubits\n",
        "    use qs = Qubit[5];\n",
        "    \n",
        "    for i in 0 .. Length(qs) - 1 {\n",
        "        X(qs[i]); //encoded\n",
        "    }\n",
        "\n",
        "    // Bob receives the qubits and decodes them\n",
        "    return MultiM(qs);\n",
        "}"
      ]
    },
    {
      "cell_type": "markdown",
      "metadata": {
        "id": "LCbvgNVLeIzq",
        "nteract": {
          "transient": {
            "deleting": false
          }
        }
      },
      "source": [
        "#### **3. Simulate the operation in python and visualize.**\n",
        "\n",
        "**Run the code below to simulate this exercise and see the distribution of measurement results.**"
      ]
    },
    {
      "cell_type": "code",
      "execution_count": 17,
      "metadata": {
        "id": "uTPiWCRHlkwd",
        "jupyter": {
          "outputs_hidden": false,
          "source_hidden": false
        },
        "nteract": {
          "transient": {
            "deleting": false
          }
        }
      },
      "outputs": [
        {
          "name": "stdout",
          "output_type": "stream",
          "text": [
            "Submitting ExerciseFive to target ionq.simulator...\n",
            "Job successfully submitted.\n",
            "   Job name: Exercise #5\n",
            "   Job ID: b5ffa8d6-3e7b-47db-941a-4f0eca2b3580\n",
            "Waiting up to 240 seconds for Azure Quantum job to complete...\n",
            "[19:45:15] Current job status: Waiting\n",
            "[19:45:20] Current job status: Succeeded\n"
          ]
        },
        {
          "data": {
            "image/png": "[encoded data removed]",
            "text/plain": [
              "<Figure size 640x480 with 1 Axes>"
            ]
          },
          "metadata": {},
          "output_type": "display_data"
        }
      ],
      "source": [
        "result = qsharp.azure.execute(ExerciseFive, shots=100, jobName=\"Exercise #5\", timeout=240)\n",
        "\n",
        "pyplot.bar(result.keys(), result.values())\n",
        "pyplot.title(\"Result\")\n",
        "pyplot.xlabel(\"Measurement\")\n",
        "pyplot.ylabel(\"Probability\")\n",
        "\n",
        "pyplot.show()"
      ]
    },
    {
      "cell_type": "markdown",
      "metadata": {
        "id": "XKASUdcBlkwd",
        "nteract": {
          "transient": {
            "deleting": false
          }
        }
      },
      "source": [
        "### **Exercise #6** \n",
        "\n",
        "**Together**, let's:\n",
        "1. Prepare an array of `n` qubits all in the $| 0 \\rangle$ state where `n` is a parameter passed into the operation. This simulates Alice encoding the key 00...0 in qubits.\n",
        "2. For each qubit, if `aliceChoices` is `true` for that qubit then put it into superposition. Otherwise, leave it in the $| 0 \\rangle$ state. This simulates Alice randomly selecting some qubits to put into superposition before sending to Bob.\n",
        "3. Measure all the qubits. This simulates Bob guessing that none of the qubits were put into superposition and decoding them."
      ]
    },
    {
      "cell_type": "markdown",
      "metadata": {
        "id": "Qnv9FIdxejbm",
        "nteract": {
          "transient": {
            "deleting": false
          }
        }
      },
      "source": [
        "#### **1. Declare the operation in python.**\n",
        "\n",
        "Let's call it `ExerciseSix`."
      ]
    },
    {
      "cell_type": "code",
      "execution_count": 18,
      "metadata": {
        "id": "teLBKotBejbm"
      },
      "outputs": [],
      "source": [
        "ExerciseSix: any = None"
      ]
    },
    {
      "cell_type": "markdown",
      "metadata": {
        "id": "xxtKkeFHejbm",
        "nteract": {
          "transient": {
            "deleting": false
          }
        }
      },
      "source": [
        "#### **2. Create the operation in Q#.**\n",
        "\n",
        "**NOTE**: We have provided you with the line `DrawMany(DrawRandomBool, n, 0.5)`, which creates an Array of `n` Bools that are randomly `True` 0.5 of the time and `False` the other 0.5 of the time."
      ]
    },
    {
      "cell_type": "code",
      "execution_count": 20,
      "metadata": {
        "id": "lK_7Vz5Uejbm",
        "microsoft": {
          "language": "qsharp"
        }
      },
      "outputs": [],
      "source": [
        "%%qsharp\n",
        "\n",
        "operation ExerciseSix(n : Int) : Result[] {\n",
        "   \n",
        "    // Alice encodes a 0 into n qubits\n",
        "    use qs = Qubit[n];\n",
        "\n",
        "    // Alice randomly selects which qubits to put into superposition\n",
        "    let aliceChoices = DrawMany(DrawRandomBool, n, 0.5);\n",
        "    for i in 0 .. Length(aliceChoices) - 1 {\n",
        "\n",
        "        if aliceChoices[i] {\n",
        "            H(qs[i]);\n",
        "        }\n",
        "    }\n",
        "\n",
        "    // Bob receives the qubits and decodes them\n",
        "    return MultiM(qs);\n",
        "}"
      ]
    },
    {
      "cell_type": "markdown",
      "metadata": {
        "id": "kHtEDdiSeKN9",
        "nteract": {
          "transient": {
            "deleting": false
          }
        }
      },
      "source": [
        "#### **3. Simulate the operation in python and visualize.**\n",
        "\n",
        "**Run the code below to simulate this exercise and see the distribution of measurement results.**"
      ]
    },
    {
      "cell_type": "code",
      "execution_count": 21,
      "metadata": {
        "id": "zwBZGxqulkwd",
        "jupyter": {
          "outputs_hidden": false,
          "source_hidden": false
        },
        "nteract": {
          "transient": {
            "deleting": false
          }
        }
      },
      "outputs": [
        {
          "name": "stdout",
          "output_type": "stream",
          "text": [
            "Submitting ExerciseSix to target ionq.simulator...\n",
            "Job successfully submitted.\n",
            "   Job name: Exercise #6\n",
            "   Job ID: 40f4f932-a069-41b2-9239-982c3cc1bc95\n",
            "Waiting up to 240 seconds for Azure Quantum job to complete...\n",
            "[19:50:56] Current job status: Waiting\n",
            "[19:51:01] Current job status: Succeeded\n"
          ]
        },
        {
          "data": {
            "image/png": "[encoded data removed]",
            "text/plain": [
              "<Figure size 640x480 with 1 Axes>"
            ]
          },
          "metadata": {},
          "output_type": "display_data"
        }
      ],
      "source": [
        "result = qsharp.azure.execute(ExerciseSix, n = 5, shots=100, jobName=\"Exercise #6\", timeout=240)\n",
        "\n",
        "pyplot.bar(result.keys(), result.values())\n",
        "pyplot.title(\"Result\")\n",
        "pyplot.xlabel(\"Measurement\")\n",
        "pyplot.ylabel(\"Probability\")\n",
        "pyplot.xticks(rotation = 90)\n",
        "\n",
        "pyplot.show()"
      ]
    },
    {
      "cell_type": "markdown",
      "metadata": {
        "id": "FhAn2i8ZCtJ_",
        "nteract": {
          "transient": {
            "deleting": false
          }
        }
      },
      "source": [
        "### **Exercise #7** \n",
        "\n",
        "**Run the code below to connect to hardware and run this operation on it.**"
      ]
    },
    {
      "cell_type": "code",
      "execution_count": 27,
      "metadata": {
        "id": "FUYU5YVFC1Gb"
      },
      "outputs": [
        {
          "name": "stdout",
          "output_type": "stream",
          "text": [
            "Loading package Microsoft.Quantum.Providers.IonQ and dependencies...\n",
            "Active target is now ionq.qpu\n",
            "Submitting ExerciseSix to target ionq.qpu...\n",
            "Job successfully submitted.\n",
            "   Job name: Exercise #7\n",
            "   Job ID: f9f3a22f-f68a-401f-ae7e-a3c669c63cf0\n",
            "Waiting up to 1000 seconds for Azure Quantum job to complete...\n",
            "[20:10:00] Current job status: Waiting\n",
            "[20:10:05] Current job status: Waiting\n",
            "[20:10:10] Current job status: Waiting\n",
            "[20:10:15] Current job status: Waiting\n",
            "[20:10:20] Current job status: Waiting\n",
            "[20:10:25] Current job status: Waiting\n",
            "[20:10:30] Current job status: Waiting\n",
            "[20:10:35] Current job status: Waiting\n",
            "[20:10:40] Current job status: Waiting\n",
            "[20:10:45] Current job status: Waiting\n",
            "[20:10:50] Current job status: Waiting\n",
            "[20:10:55] Current job status: Waiting\n",
            "[20:11:00] Current job status: Waiting\n",
            "[20:11:05] Current job status: Waiting\n",
            "[20:11:10] Current job status: Waiting\n",
            "[20:11:15] Current job status: Waiting\n",
            "[20:11:20] Current job status: Waiting\n",
            "[20:11:25] Current job status: Waiting\n",
            "[20:11:30] Current job status: Waiting\n",
            "[20:11:35] Current job status: Waiting\n",
            "[20:11:41] Current job status: Waiting\n",
            "[20:11:46] Current job status: Waiting\n"
          ]
        },
        {
          "ename": "TimeoutError",
          "evalue": "Timeout waiting for output",
          "output_type": "error",
          "traceback": [
            "\u001b[0;31m---------------------------------------------------------------------------\u001b[0m",
            "\u001b[0;31mTimeoutError\u001b[0m                              Traceback (most recent call last)",
            "Cell \u001b[0;32mIn[27], line 2\u001b[0m\n\u001b[1;32m      1\u001b[0m qsharp\u001b[38;5;241m.\u001b[39mazure\u001b[38;5;241m.\u001b[39mtarget(\u001b[38;5;124m\"\u001b[39m\u001b[38;5;124mionq.qpu\u001b[39m\u001b[38;5;124m\"\u001b[39m)\n\u001b[0;32m----> 2\u001b[0m result \u001b[38;5;241m=\u001b[39m \u001b[43mqsharp\u001b[49m\u001b[38;5;241;43m.\u001b[39;49m\u001b[43mazure\u001b[49m\u001b[38;5;241;43m.\u001b[39;49m\u001b[43mexecute\u001b[49m\u001b[43m(\u001b[49m\u001b[43mExerciseSix\u001b[49m\u001b[43m,\u001b[49m\u001b[43m \u001b[49m\u001b[43mn\u001b[49m\u001b[43m \u001b[49m\u001b[38;5;241;43m=\u001b[39;49m\u001b[43m \u001b[49m\u001b[38;5;241;43m5\u001b[39;49m\u001b[43m,\u001b[49m\u001b[43m \u001b[49m\u001b[43mshots\u001b[49m\u001b[38;5;241;43m=\u001b[39;49m\u001b[38;5;241;43m100\u001b[39;49m\u001b[43m,\u001b[49m\u001b[43m \u001b[49m\u001b[43mjobName\u001b[49m\u001b[38;5;241;43m=\u001b[39;49m\u001b[38;5;124;43m\"\u001b[39;49m\u001b[38;5;124;43mExercise #7\u001b[39;49m\u001b[38;5;124;43m\"\u001b[39;49m\u001b[43m,\u001b[49m\u001b[43m \u001b[49m\u001b[43mtimeout\u001b[49m\u001b[38;5;241;43m=\u001b[39;49m\u001b[38;5;241;43m1000\u001b[39;49m\u001b[43m)\u001b[49m\n\u001b[1;32m      4\u001b[0m pyplot\u001b[38;5;241m.\u001b[39mbar(result\u001b[38;5;241m.\u001b[39mkeys(), result\u001b[38;5;241m.\u001b[39mvalues())\n\u001b[1;32m      5\u001b[0m pyplot\u001b[38;5;241m.\u001b[39mtitle(\u001b[38;5;124m\"\u001b[39m\u001b[38;5;124mResult\u001b[39m\u001b[38;5;124m\"\u001b[39m)\n",
            "File \u001b[0;32m/usr/local/lib/python3.9/site-packages/qsharp/azure.py:160\u001b[0m, in \u001b[0;36mexecute\u001b[0;34m(op, **params)\u001b[0m\n\u001b[1;32m    152\u001b[0m \u001b[38;5;28;01mdef\u001b[39;00m \u001b[38;5;21mexecute\u001b[39m(op : qsharp\u001b[38;5;241m.\u001b[39mQSharpCallable, \u001b[38;5;241m*\u001b[39m\u001b[38;5;241m*\u001b[39mparams) \u001b[38;5;241m-\u001b[39m\u001b[38;5;241m>\u001b[39m AzureResult:\n\u001b[1;32m    153\u001b[0m \u001b[38;5;250m    \u001b[39m\u001b[38;5;124;03m\"\"\"\u001b[39;00m\n\u001b[1;32m    154\u001b[0m \u001b[38;5;124;03m    Submits a job to an Azure Quantum workspace and waits for completion.\u001b[39;00m\n\u001b[1;32m    155\u001b[0m \u001b[38;5;124;03m    Returns a dictionary containing the results of the job. This dictionary will usually\u001b[39;00m\n\u001b[0;32m   (...)\u001b[0m\n\u001b[1;32m    158\u001b[0m \u001b[38;5;124;03m    See https://docs.microsoft.com/qsharp/api/iqsharp-magic/azure.execute for more details.\u001b[39;00m\n\u001b[1;32m    159\u001b[0m \u001b[38;5;124;03m    \"\"\"\u001b[39;00m\n\u001b[0;32m--> 160\u001b[0m     (result, content) \u001b[38;5;241m=\u001b[39m \u001b[43mqsharp\u001b[49m\u001b[38;5;241;43m.\u001b[39;49m\u001b[43mclient\u001b[49m\u001b[38;5;241;43m.\u001b[39;49m\u001b[43m_execute_callable_magic\u001b[49m\u001b[43m(\u001b[49m\u001b[38;5;124;43m\"\u001b[39;49m\u001b[38;5;124;43mazure.execute\u001b[39;49m\u001b[38;5;124;43m\"\u001b[39;49m\u001b[43m,\u001b[49m\u001b[43m \u001b[49m\u001b[43mop\u001b[49m\u001b[43m,\u001b[49m\u001b[43m \u001b[49m\u001b[43mraise_on_stderr\u001b[49m\u001b[38;5;241;43m=\u001b[39;49m\u001b[38;5;28;43;01mFalse\u001b[39;49;00m\u001b[43m,\u001b[49m\u001b[43m \u001b[49m\u001b[43mreturn_full_result\u001b[49m\u001b[38;5;241;43m=\u001b[39;49m\u001b[38;5;28;43;01mTrue\u001b[39;49;00m\u001b[43m,\u001b[49m\u001b[43m \u001b[49m\u001b[38;5;241;43m*\u001b[39;49m\u001b[38;5;241;43m*\u001b[39;49m\u001b[43mparams\u001b[49m\u001b[43m)\u001b[49m\n\u001b[1;32m    161\u001b[0m     \u001b[38;5;28;01mif\u001b[39;00m \u001b[38;5;124m\"\u001b[39m\u001b[38;5;124merror_code\u001b[39m\u001b[38;5;124m\"\u001b[39m \u001b[38;5;129;01min\u001b[39;00m result: \u001b[38;5;28;01mraise\u001b[39;00m AzureError(result)\n\u001b[1;32m    162\u001b[0m     \u001b[38;5;28;01mreturn\u001b[39;00m AzureResult(result, content[\u001b[38;5;124m'\u001b[39m\u001b[38;5;124mdata\u001b[39m\u001b[38;5;124m'\u001b[39m])\n",
            "File \u001b[0;32m/usr/local/lib/python3.9/site-packages/qsharp/clients/iqsharp.py:293\u001b[0m, in \u001b[0;36mIQSharpClient._execute_callable_magic\u001b[0;34m(self, magic, op, raise_on_stderr, _quiet_, **kwargs)\u001b[0m\n\u001b[1;32m    288\u001b[0m \u001b[38;5;28;01mdef\u001b[39;00m \u001b[38;5;21m_execute_callable_magic\u001b[39m(\u001b[38;5;28mself\u001b[39m, magic : \u001b[38;5;28mstr\u001b[39m, op,\n\u001b[1;32m    289\u001b[0m         raise_on_stderr : \u001b[38;5;28mbool\u001b[39m \u001b[38;5;241m=\u001b[39m \u001b[38;5;28;01mFalse\u001b[39;00m,\n\u001b[1;32m    290\u001b[0m         _quiet_ : \u001b[38;5;28mbool\u001b[39m \u001b[38;5;241m=\u001b[39m \u001b[38;5;28;01mFalse\u001b[39;00m,\n\u001b[1;32m    291\u001b[0m         \u001b[38;5;241m*\u001b[39m\u001b[38;5;241m*\u001b[39mkwargs\n\u001b[1;32m    292\u001b[0m ) \u001b[38;5;241m-\u001b[39m\u001b[38;5;241m>\u001b[39m Any:\n\u001b[0;32m--> 293\u001b[0m     \u001b[38;5;28;01mreturn\u001b[39;00m \u001b[38;5;28;43mself\u001b[39;49m\u001b[38;5;241;43m.\u001b[39;49m\u001b[43m_execute_magic\u001b[49m\u001b[43m(\u001b[49m\n\u001b[1;32m    294\u001b[0m \u001b[43m        \u001b[49m\u001b[38;5;124;43mf\u001b[39;49m\u001b[38;5;124;43m\"\u001b[39;49m\u001b[38;5;132;43;01m{\u001b[39;49;00m\u001b[43mmagic\u001b[49m\u001b[38;5;132;43;01m}\u001b[39;49;00m\u001b[38;5;124;43m \u001b[39;49m\u001b[38;5;132;43;01m{\u001b[39;49;00m\u001b[43mop\u001b[49m\u001b[38;5;241;43m.\u001b[39;49m\u001b[43m_name\u001b[49m\u001b[38;5;132;43;01m}\u001b[39;49;00m\u001b[38;5;124;43m\"\u001b[39;49m\u001b[43m,\u001b[49m\n\u001b[1;32m    295\u001b[0m \u001b[43m        \u001b[49m\u001b[43mraise_on_stderr\u001b[49m\u001b[38;5;241;43m=\u001b[39;49m\u001b[43mraise_on_stderr\u001b[49m\u001b[43m,\u001b[49m\n\u001b[1;32m    296\u001b[0m \u001b[43m        \u001b[49m\u001b[43m_quiet_\u001b[49m\u001b[38;5;241;43m=\u001b[39;49m\u001b[43m_quiet_\u001b[49m\u001b[43m,\u001b[49m\n\u001b[1;32m    297\u001b[0m \u001b[43m        \u001b[49m\u001b[38;5;241;43m*\u001b[39;49m\u001b[38;5;241;43m*\u001b[39;49m\u001b[43mkwargs\u001b[49m\n\u001b[1;32m    298\u001b[0m \u001b[43m    \u001b[49m\u001b[43m)\u001b[49m\n",
            "File \u001b[0;32m/usr/local/lib/python3.9/site-packages/qsharp/clients/iqsharp.py:283\u001b[0m, in \u001b[0;36mIQSharpClient._execute_magic\u001b[0;34m(self, magic, raise_on_stderr, _quiet_, return_full_result, **kwargs)\u001b[0m\n\u001b[1;32m    281\u001b[0m \u001b[38;5;28;01mdef\u001b[39;00m \u001b[38;5;21m_execute_magic\u001b[39m(\u001b[38;5;28mself\u001b[39m, magic : \u001b[38;5;28mstr\u001b[39m, raise_on_stderr : \u001b[38;5;28mbool\u001b[39m \u001b[38;5;241m=\u001b[39m \u001b[38;5;28;01mFalse\u001b[39;00m, _quiet_ : \u001b[38;5;28mbool\u001b[39m \u001b[38;5;241m=\u001b[39m \u001b[38;5;28;01mFalse\u001b[39;00m, return_full_result\u001b[38;5;241m=\u001b[39m\u001b[38;5;28;01mFalse\u001b[39;00m, \u001b[38;5;241m*\u001b[39m\u001b[38;5;241m*\u001b[39mkwargs) \u001b[38;5;241m-\u001b[39m\u001b[38;5;241m>\u001b[39m Any:\n\u001b[1;32m    282\u001b[0m     _timeout_ \u001b[38;5;241m=\u001b[39m kwargs\u001b[38;5;241m.\u001b[39mpop(\u001b[38;5;124m'\u001b[39m\u001b[38;5;124m_timeout_\u001b[39m\u001b[38;5;124m'\u001b[39m, DEFAULT_TIMEOUT)\n\u001b[0;32m--> 283\u001b[0m     \u001b[38;5;28;01mreturn\u001b[39;00m \u001b[38;5;28;43mself\u001b[39;49m\u001b[38;5;241;43m.\u001b[39;49m\u001b[43m_execute\u001b[49m\u001b[43m(\u001b[49m\n\u001b[1;32m    284\u001b[0m \u001b[43m        \u001b[49m\u001b[38;5;124;43mf\u001b[39;49m\u001b[38;5;124;43m'\u001b[39;49m\u001b[38;5;124;43m%\u001b[39;49m\u001b[38;5;132;43;01m{\u001b[39;49;00m\u001b[43mmagic\u001b[49m\u001b[38;5;132;43;01m}\u001b[39;49;00m\u001b[38;5;124;43m \u001b[39;49m\u001b[38;5;132;43;01m{\u001b[39;49;00m\u001b[43mjson\u001b[49m\u001b[38;5;241;43m.\u001b[39;49m\u001b[43mdumps\u001b[49m\u001b[43m(\u001b[49m\u001b[43mmap_tuples\u001b[49m\u001b[43m(\u001b[49m\u001b[43mkwargs\u001b[49m\u001b[43m)\u001b[49m\u001b[43m)\u001b[49m\u001b[38;5;132;43;01m}\u001b[39;49;00m\u001b[38;5;124;43m'\u001b[39;49m\u001b[43m,\u001b[49m\n\u001b[1;32m    285\u001b[0m \u001b[43m        \u001b[49m\u001b[43mraise_on_stderr\u001b[49m\u001b[38;5;241;43m=\u001b[39;49m\u001b[43mraise_on_stderr\u001b[49m\u001b[43m,\u001b[49m\u001b[43m \u001b[49m\u001b[43m_quiet_\u001b[49m\u001b[38;5;241;43m=\u001b[39;49m\u001b[43m_quiet_\u001b[49m\u001b[43m,\u001b[49m\u001b[43m \u001b[49m\u001b[43m_timeout_\u001b[49m\u001b[38;5;241;43m=\u001b[39;49m\u001b[43m_timeout_\u001b[49m\u001b[43m,\u001b[49m\u001b[43m \u001b[49m\u001b[43mreturn_full_result\u001b[49m\u001b[38;5;241;43m=\u001b[39;49m\u001b[43mreturn_full_result\u001b[49m\n\u001b[1;32m    286\u001b[0m \u001b[43m    \u001b[49m\u001b[43m)\u001b[49m\n",
            "File \u001b[0;32m/usr/local/lib/python3.9/site-packages/qsharp/clients/iqsharp.py:373\u001b[0m, in \u001b[0;36mIQSharpClient._execute\u001b[0;34m(self, input, return_full_result, raise_on_stderr, output_hook, display_data_handler, _timeout_, _quiet_, **kwargs)\u001b[0m\n\u001b[1;32m    371\u001b[0m         \u001b[38;5;28;01mraise\u001b[39;00m AlreadyExecutingError(\u001b[38;5;124m\"\u001b[39m\u001b[38;5;124mCannot execute through the IQ# client while another execution is completing.\u001b[39m\u001b[38;5;124m\"\u001b[39m)\n\u001b[1;32m    372\u001b[0m     \u001b[38;5;28mself\u001b[39m\u001b[38;5;241m.\u001b[39m_busy \u001b[38;5;241m=\u001b[39m \u001b[38;5;28;01mTrue\u001b[39;00m\n\u001b[0;32m--> 373\u001b[0m     reply \u001b[38;5;241m=\u001b[39m \u001b[38;5;28;43mself\u001b[39;49m\u001b[38;5;241;43m.\u001b[39;49m\u001b[43mkernel_client\u001b[49m\u001b[38;5;241;43m.\u001b[39;49m\u001b[43mexecute_interactive\u001b[49m\u001b[43m(\u001b[49m\u001b[38;5;28;43minput\u001b[39;49m\u001b[43m,\u001b[49m\u001b[43m \u001b[49m\u001b[43mtimeout\u001b[49m\u001b[38;5;241;43m=\u001b[39;49m\u001b[43m_timeout_\u001b[49m\u001b[43m,\u001b[49m\u001b[43m \u001b[49m\u001b[43moutput_hook\u001b[49m\u001b[38;5;241;43m=\u001b[39;49m\u001b[43m_output_hook\u001b[49m\u001b[43m,\u001b[49m\u001b[43m \u001b[49m\u001b[38;5;241;43m*\u001b[39;49m\u001b[38;5;241;43m*\u001b[39;49m\u001b[43mkwargs\u001b[49m\u001b[43m)\u001b[49m\n\u001b[1;32m    374\u001b[0m \u001b[38;5;28;01mfinally\u001b[39;00m:\n\u001b[1;32m    375\u001b[0m     \u001b[38;5;28mself\u001b[39m\u001b[38;5;241m.\u001b[39m_busy \u001b[38;5;241m=\u001b[39m \u001b[38;5;28;01mFalse\u001b[39;00m\n",
            "File \u001b[0;32m/usr/local/lib/python3.9/site-packages/jupyter_core/utils/__init__.py:160\u001b[0m, in \u001b[0;36mrun_sync.<locals>.wrapped\u001b[0;34m(*args, **kwargs)\u001b[0m\n\u001b[1;32m    158\u001b[0m     \u001b[38;5;28;01mif\u001b[39;00m name \u001b[38;5;129;01mnot\u001b[39;00m \u001b[38;5;129;01min\u001b[39;00m _runner_map:\n\u001b[1;32m    159\u001b[0m         _runner_map[name] \u001b[38;5;241m=\u001b[39m _TaskRunner()\n\u001b[0;32m--> 160\u001b[0m     \u001b[38;5;28;01mreturn\u001b[39;00m \u001b[43m_runner_map\u001b[49m\u001b[43m[\u001b[49m\u001b[43mname\u001b[49m\u001b[43m]\u001b[49m\u001b[38;5;241;43m.\u001b[39;49m\u001b[43mrun\u001b[49m\u001b[43m(\u001b[49m\u001b[43minner\u001b[49m\u001b[43m)\u001b[49m\n\u001b[1;32m    161\u001b[0m \u001b[38;5;28;01mexcept\u001b[39;00m \u001b[38;5;167;01mRuntimeError\u001b[39;00m:\n\u001b[1;32m    162\u001b[0m     \u001b[38;5;28;01mpass\u001b[39;00m\n",
            "File \u001b[0;32m/usr/local/lib/python3.9/site-packages/jupyter_core/utils/__init__.py:128\u001b[0m, in \u001b[0;36m_TaskRunner.run\u001b[0;34m(self, coro)\u001b[0m\n\u001b[1;32m    126\u001b[0m         \u001b[38;5;28mself\u001b[39m\u001b[38;5;241m.\u001b[39m__runner_thread\u001b[38;5;241m.\u001b[39mstart()\n\u001b[1;32m    127\u001b[0m fut \u001b[38;5;241m=\u001b[39m asyncio\u001b[38;5;241m.\u001b[39mrun_coroutine_threadsafe(coro, \u001b[38;5;28mself\u001b[39m\u001b[38;5;241m.\u001b[39m__io_loop)\n\u001b[0;32m--> 128\u001b[0m \u001b[38;5;28;01mreturn\u001b[39;00m \u001b[43mfut\u001b[49m\u001b[38;5;241;43m.\u001b[39;49m\u001b[43mresult\u001b[49m\u001b[43m(\u001b[49m\u001b[38;5;28;43;01mNone\u001b[39;49;00m\u001b[43m)\u001b[49m\n",
            "File \u001b[0;32m/usr/local/lib/python3.9/concurrent/futures/_base.py:446\u001b[0m, in \u001b[0;36mFuture.result\u001b[0;34m(self, timeout)\u001b[0m\n\u001b[1;32m    444\u001b[0m     \u001b[38;5;28;01mraise\u001b[39;00m CancelledError()\n\u001b[1;32m    445\u001b[0m \u001b[38;5;28;01melif\u001b[39;00m \u001b[38;5;28mself\u001b[39m\u001b[38;5;241m.\u001b[39m_state \u001b[38;5;241m==\u001b[39m FINISHED:\n\u001b[0;32m--> 446\u001b[0m     \u001b[38;5;28;01mreturn\u001b[39;00m \u001b[38;5;28;43mself\u001b[39;49m\u001b[38;5;241;43m.\u001b[39;49m\u001b[43m__get_result\u001b[49m\u001b[43m(\u001b[49m\u001b[43m)\u001b[49m\n\u001b[1;32m    447\u001b[0m \u001b[38;5;28;01melse\u001b[39;00m:\n\u001b[1;32m    448\u001b[0m     \u001b[38;5;28;01mraise\u001b[39;00m \u001b[38;5;167;01mTimeoutError\u001b[39;00m()\n",
            "File \u001b[0;32m/usr/local/lib/python3.9/concurrent/futures/_base.py:391\u001b[0m, in \u001b[0;36mFuture.__get_result\u001b[0;34m(self)\u001b[0m\n\u001b[1;32m    389\u001b[0m \u001b[38;5;28;01mif\u001b[39;00m \u001b[38;5;28mself\u001b[39m\u001b[38;5;241m.\u001b[39m_exception:\n\u001b[1;32m    390\u001b[0m     \u001b[38;5;28;01mtry\u001b[39;00m:\n\u001b[0;32m--> 391\u001b[0m         \u001b[38;5;28;01mraise\u001b[39;00m \u001b[38;5;28mself\u001b[39m\u001b[38;5;241m.\u001b[39m_exception\n\u001b[1;32m    392\u001b[0m     \u001b[38;5;28;01mfinally\u001b[39;00m:\n\u001b[1;32m    393\u001b[0m         \u001b[38;5;66;03m# Break a reference cycle with the exception in self._exception\u001b[39;00m\n\u001b[1;32m    394\u001b[0m         \u001b[38;5;28mself\u001b[39m \u001b[38;5;241m=\u001b[39m \u001b[38;5;28;01mNone\u001b[39;00m\n",
            "File \u001b[0;32m/usr/local/lib/python3.9/site-packages/jupyter_client/client.py:535\u001b[0m, in \u001b[0;36mKernelClient._async_execute_interactive\u001b[0;34m(self, code, silent, store_history, user_expressions, allow_stdin, stop_on_error, timeout, output_hook, stdin_hook)\u001b[0m\n\u001b[1;32m    533\u001b[0m events \u001b[38;5;241m=\u001b[39m \u001b[38;5;28mdict\u001b[39m(poller\u001b[38;5;241m.\u001b[39mpoll(timeout_ms))\n\u001b[1;32m    534\u001b[0m \u001b[38;5;28;01mif\u001b[39;00m \u001b[38;5;129;01mnot\u001b[39;00m events:\n\u001b[0;32m--> 535\u001b[0m     \u001b[38;5;28;01mraise\u001b[39;00m \u001b[38;5;167;01mTimeoutError\u001b[39;00m(\u001b[38;5;124m\"\u001b[39m\u001b[38;5;124mTimeout waiting for output\u001b[39m\u001b[38;5;124m\"\u001b[39m)\n\u001b[1;32m    536\u001b[0m \u001b[38;5;28;01mif\u001b[39;00m stdin_socket \u001b[38;5;129;01min\u001b[39;00m events:\n\u001b[1;32m    537\u001b[0m     req \u001b[38;5;241m=\u001b[39m \u001b[38;5;28;01mawait\u001b[39;00m ensure_async(\u001b[38;5;28mself\u001b[39m\u001b[38;5;241m.\u001b[39mstdin_channel\u001b[38;5;241m.\u001b[39mget_msg(timeout\u001b[38;5;241m=\u001b[39m\u001b[38;5;241m0\u001b[39m))\n",
            "\u001b[0;31mTimeoutError\u001b[0m: Timeout waiting for output"
          ]
        }
      ],
      "source": [
        "qsharp.azure.target(\"ionq.qpu\")\n",
        "result = qsharp.azure.execute(ExerciseSix, n = 5, shots=100, jobName=\"Exercise #7\", timeout=1000)\n",
        "\n",
        "pyplot.bar(result.keys(), result.values())\n",
        "pyplot.title(\"Result\")\n",
        "pyplot.xlabel(\"Measurement\")\n",
        "pyplot.ylabel(\"Probability\")\n",
        "pyplot.xticks(rotation = 90)\n",
        "## Time out error\n",
        "pyplot.show()"
      ]
    },
    {
      "cell_type": "markdown",
      "metadata": {
        "id": "B8N-H7iSlkwe",
        "nteract": {
          "transient": {
            "deleting": false
          }
        }
      },
      "source": [
        "### **Summary**\n",
        "We now know a few things: \n",
        "\n",
        "1. If Alice needs to encode a `0` into a qubit, she simply needs to use the command `use q = Qubit();` since qubits automatically start in the $| 0 \\rangle $ state.\n",
        "\n",
        "1. If Alice needs to encode a `1` into a qubit, she needs to apply an `X` gate to the qubit since:\n",
        "$$ X|0\\rangle = | 1 \\rangle$$\n",
        "\n",
        "1. If Alice randomly chooses to prepare a qubit in a superposition state, she can use the Hadamard gate since:\n",
        "$$ H|0\\rangle = | + \\rangle $$\n",
        "$$ H|1\\rangle = | - \\rangle $$\n",
        "\n",
        "1. If Bob randomly chooses to try taking a qubit out of superposition, he can also use the Hadamard gate since:\n",
        "$$ H|+\\rangle = | 0 \\rangle $$\n",
        "$$ H|-\\rangle = | 1 \\rangle $$\n",
        "\n",
        "1. Alice will encode her key by using a qubit for each bit of the key and applying an X gate if that bit is 1. She will then randomly choose some qubits to put into superposition and \"send\" them to Bob. Bob will then randomly choose some qubits to, hopefully, take out of superposition. He will then measure the qubits to decode them into bits that now represent his key.\n",
        "\n",
        "<br><br>\n",
        "\n",
        "**Technical Note:** When we apply an H gate right before measuring, we can actually say that we are \"measuring in a different basis\"- the Hadamard basis. It turns out that applying an H gate is the same as if we just rotated our view of the Bloch sphere so the x-axis were pointing up and down. For this reason, we also call this the X Basis. You are not responsible for knowing this, but it is worth being aware of since a lot of the discussion about QKD involves bases.\n",
        "\n",
        "The most important thing for you to know is that when someone says that Alice or Bob measures a certain qubit:\n",
        "* \"in the Z basis\", this is exactly the same as saying Alice or Bob chooses to not put this qubit in superposition.\n",
        "* \"in the X basis\", this is exactly the same as saying Alice or Bob chooses to put this qubit in superposition."
      ]
    },
    {
      "cell_type": "markdown",
      "metadata": {
        "id": "GetBXQSFlkwe",
        "nteract": {
          "transient": {
            "deleting": false
          }
        }
      },
      "source": [
        "## **Part #2: Quantum Key Distribution (BB84)**\n",
        "---\n",
        "\n",
        "Now let's implement QKD. Specifically, we will write code that simulates the BB84 protocol between Alice and Bob such that:\n",
        "\n",
        "* The initial key Alice wants to share with Bob is 5 bits long and is represented by the array returned by the operation `AliceBits()`.\n",
        "\n",
        "* We represent Alice's choices about whether to put each qubit into superposition or not using an array returned by the operation `AliceChoices()`, where `AliceChoices()[i] = false` if she chooses not to put qubit `i` into superposition and `AliceChoices()[i] = true` if she does choose to put qubit `i` into superposition.\n",
        "\n",
        "* We represent Bob's choices and key in a similar way: `BobChoices()[i] = false` or `BobChoices()[i] = true` and `BobBits()`."
      ]
    },
    {
      "cell_type": "markdown",
      "metadata": {
        "id": "eMQyux5Clkwe",
        "nteract": {
          "transient": {
            "deleting": false
          }
        }
      },
      "source": [
        "### **Phases #1 - 2: Alice Sends the Key and Bob Receives It.**\n",
        "\n",
        "We will be defining multiple operations here, but still using our 3 step process."
      ]
    },
    {
      "cell_type": "markdown",
      "metadata": {
        "id": "GtY1TLTdlYOE",
        "nteract": {
          "transient": {
            "deleting": false
          }
        }
      },
      "source": [
        "#### **1. Declare the operations in python.**"
      ]
    },
    {
      "cell_type": "code",
      "execution_count": 28,
      "metadata": {
        "id": "1vPxUs9vlkQy"
      },
      "outputs": [],
      "source": [
        "GetAliceBits : any = None\n",
        "GetAliceChoices : any = None\n",
        "GetBobChoices : any = None\n",
        "SendAliceBob : any = None"
      ]
    },
    {
      "cell_type": "markdown",
      "metadata": {
        "id": "0xnCR9oXleQR",
        "nteract": {
          "transient": {
            "deleting": false
          }
        }
      },
      "source": [
        "#### **2. Create the operations in Q#.**\n"
      ]
    },
    {
      "cell_type": "code",
      "execution_count": 43,
      "metadata": {
        "id": "UYa8vsSclHDq",
        "microsoft": {
          "language": "qsharp"
        }
      },
      "outputs": [],
      "source": [
        "%%qsharp\n",
        "\n",
        "operation GetAliceBits(keyLength: Int) : Int[] {\n",
        "\n",
        "    return DrawMany(DrawRandomInt, keyLength, (0, 1));\n",
        "}\n",
        "\n",
        "\n",
        "operation GetAliceChoices(keyLength: Int) : Bool[] {\n",
        "\n",
        "    return DrawMany(DrawRandomBool, keyLength, 0.5);\n",
        "}\n",
        "\n",
        "\n",
        "operation GetBobChoices(keyLength: Int) : Bool[] {\n",
        "\n",
        "    return DrawMany(DrawRandomBool, keyLength, 0.5);\n",
        "}\n",
        "\n",
        "\n",
        "operation SendAliceBob(aliceBits : Int[], aliceChoices : Bool[], bobChoices : Bool[]) : Result[] {\n",
        "    \n",
        "    //Qubits initialized\n",
        "    let keyLength = Length(aliceBits); \n",
        "    use qs = Qubit[keyLength]; \n",
        "\n",
        "    // Alice encodes her key\n",
        "    //========================\n",
        "    for i in 0 .. Length(aliceBits) - 1{\n",
        "\n",
        "        // Encode a 1 into the |1> state\n",
        "        if aliceBits [i] == 1 {\n",
        "            X(qs[i]);\n",
        "        } \n",
        "\n",
        "        // Put Alice's random choice of qubits into superposition\n",
        "        if aliceChoices[i] {\n",
        "            H(qs[i]);\n",
        "        } \n",
        "\n",
        "    }\n",
        "\n",
        "    // Bob receives the key and\n",
        "    // acts according to his choices of superpositions\n",
        "    //=================================================\n",
        "    for i in 0 .. Length(qs) - 1 {\n",
        "\n",
        "        if bobChoices[i] {\n",
        "            H(qs[i]);\n",
        "        }\n",
        "    }\n",
        "\n",
        "    // Bob measures the qubits\n",
        "    // to decode the key\n",
        "    //========================\n",
        "    return MultiM(qs);\n",
        "}"
      ]
    },
    {
      "cell_type": "markdown",
      "metadata": {
        "id": "AqxV7Oz2lgud",
        "nteract": {
          "transient": {
            "deleting": false
          }
        }
      },
      "source": [
        "#### **3. Simulate the operation in python and visualize.**\n",
        "\n",
        "**Run the code below to simulate this exercise and see the distribution of measurement results.**"
      ]
    },
    {
      "cell_type": "code",
      "execution_count": 44,
      "metadata": {
        "id": "pfWmW8zkZjSW",
        "jupyter": {
          "outputs_hidden": false,
          "source_hidden": false
        },
        "nteract": {
          "transient": {
            "deleting": false
          }
        }
      },
      "outputs": [
        {
          "name": "stdout",
          "output_type": "stream",
          "text": [
            "Alice's bits: [0, 1, 0, 0, 1]\n",
            "Alice's choices: [False, True, True, False, True]\n",
            "\n",
            "\n",
            "Bob's choices: [False, False, False, False, True]\n",
            "Bob's bits: [0, 1, 0, 0, 1]\n",
            "\n",
            "\n"
          ]
        }
      ],
      "source": [
        "keyLength = 5\n",
        "\n",
        "# STEPS #1 - 2\n",
        "aliceBits = GetAliceBits.simulate(keyLength = keyLength)\n",
        "aliceChoices = GetAliceChoices(keyLength = keyLength)\n",
        "\n",
        "print(\"Alice's bits: \" + str(aliceBits))\n",
        "print(\"Alice's choices: \" + str(aliceChoices))\n",
        "print(\"\\n\")\n",
        "\n",
        "\n",
        "# STEPS #3 - 5\n",
        "bobChoices = GetBobChoices.simulate(keyLength = keyLength)\n",
        "bobBits = SendAliceBob.simulate(aliceBits = aliceBits, aliceChoices = aliceChoices, bobChoices = bobChoices)\n",
        "\n",
        "\n",
        "print(\"Bob's choices: \" + str(bobChoices))\n",
        "print(\"Bob's bits: \" + str(bobBits))\n",
        "print(\"\\n\")"
      ]
    },
    {
      "cell_type": "markdown",
      "metadata": {
        "id": "2ACAW9TIlkwf",
        "nteract": {
          "transient": {
            "deleting": false
          }
        }
      },
      "source": [
        "### **Phase #3: Alice \"calls\" Bob and they compare their choices for superposition bits to determine their new key.**"
      ]
    },
    {
      "cell_type": "markdown",
      "metadata": {
        "id": "gn8AGTBKlkwf",
        "nteract": {
          "transient": {
            "deleting": false
          }
        }
      },
      "source": [
        "#### **Step #6: Alice and Bob compare notes and create their keys**\n",
        "\n",
        "**Together**, let's write an operation that compares Alice's and Bob's choices for superposition bits and creates a key based on this."
      ]
    },
    {
      "cell_type": "markdown",
      "metadata": {
        "id": "R9POFgeCpUYl",
        "nteract": {
          "transient": {
            "deleting": false
          }
        }
      },
      "source": [
        "##### **1. Declare the operation in python.**\n",
        "\n",
        "Let's call it `GenerateKey`."
      ]
    },
    {
      "cell_type": "code",
      "execution_count": 45,
      "metadata": {
        "id": "vIm13xQ5pUYl",
        "jupyter": {
          "outputs_hidden": false,
          "source_hidden": false
        },
        "nteract": {
          "transient": {
            "deleting": false
          }
        }
      },
      "outputs": [],
      "source": [
        "GenerateKey : any = None"
      ]
    },
    {
      "cell_type": "markdown",
      "metadata": {
        "id": "oSHwfFnspUYl",
        "nteract": {
          "transient": {
            "deleting": false
          }
        }
      },
      "source": [
        "##### **2. Create the operation in Q#.**"
      ]
    },
    {
      "cell_type": "code",
      "execution_count": 46,
      "metadata": {
        "id": "3Go_6WSBpUYl",
        "jupyter": {
          "outputs_hidden": false,
          "source_hidden": false
        },
        "microsoft": {
          "language": "qsharp"
        },
        "nteract": {
          "transient": {
            "deleting": false
          }
        }
      },
      "outputs": [],
      "source": [
        "%%qsharp\n",
        "\n",
        "operation GenerateKey(bits : Int[], aliceChoices : Bool[], bobChoices : Bool[]) : Int[] {\n",
        "\n",
        "    // Count how many choices they agreed for\n",
        "    mutable count = 0;\n",
        "    for i in 0 .. Length(aliceChoices) - 1 {\n",
        "\n",
        "        if aliceChoices[i] == bobChoices[i] {\n",
        "            set count = count + 1;\n",
        "        }\n",
        "    }\n",
        "\n",
        "    // Create the key\n",
        "    mutable key = [0, size = count];\n",
        "    mutable keyID = 0;\n",
        "    for i in 0 .. Length(aliceChoices) - 1 {\n",
        "        // set id\n",
        "        if aliceChoices[i] == bobChoices[i]  {\n",
        "            set key w/= keyID <- bits[i];\n",
        "            set keyID += 1;\n",
        "        }\n",
        "    }\n",
        "    \n",
        "    return key;\n",
        "}"
      ]
    },
    {
      "cell_type": "markdown",
      "metadata": {
        "id": "0mRQNTNJlkwf",
        "nteract": {
          "transient": {
            "deleting": false
          }
        }
      },
      "source": [
        "#### **Step #7: Checking the shared key**\n",
        "\n",
        "Now that Alice and Bob have discarded the bits where their choices were not the same, the remaining bits form a shared key. To verify that the Eve did not intercept and the protocol is secure, they share a chosen sample of their key and ensure that it matches. \n",
        "\n",
        "1. If they find that the shared sample from both Alice and Bob has matched, they discard these bits and use the rest of the shared key. \n",
        "\n",
        "2. If they find out that the shared sample does not match, they know that Eve has intercepted! They would need to start the process all over again.\n",
        "\n",
        "<br>\n",
        "\n",
        "**Together**, let's implement this as follows:\n",
        "* Alice and Bob compare the first half of the key.\n",
        "* If these bits are all the same, then return `true`.\n",
        "* If any of these bits are different, then return `false`."
      ]
    },
    {
      "cell_type": "markdown",
      "metadata": {
        "id": "z5_Wnz16pUYp",
        "nteract": {
          "transient": {
            "deleting": false
          }
        }
      },
      "source": [
        "##### **1. Declare the operation in python.**\n",
        "\n",
        "Let's call it `IsSecureKey`."
      ]
    },
    {
      "cell_type": "code",
      "execution_count": 47,
      "metadata": {
        "id": "iidep2uVpUYr",
        "jupyter": {
          "outputs_hidden": false,
          "source_hidden": false
        },
        "nteract": {
          "transient": {
            "deleting": false
          }
        }
      },
      "outputs": [],
      "source": [
        "IsSecureKey : any = None"
      ]
    },
    {
      "cell_type": "markdown",
      "metadata": {
        "id": "-XYAQxQIpUYr",
        "nteract": {
          "transient": {
            "deleting": false
          }
        }
      },
      "source": [
        "##### **2. Create the operation in Q#.**"
      ]
    },
    {
      "cell_type": "code",
      "execution_count": 48,
      "metadata": {
        "id": "nESAeXiKpUYs",
        "jupyter": {
          "outputs_hidden": false,
          "source_hidden": false
        },
        "microsoft": {
          "language": "qsharp"
        },
        "nteract": {
          "transient": {
            "deleting": false
          }
        }
      },
      "outputs": [],
      "source": [
        "%%qsharp\n",
        "\n",
        "operation IsSecureKey(aliceKey : Int[], bobKey : Int[]) : Bool {\n",
        "\n",
        "    for i in 0 .. Length(aliceKey) / 2 {\n",
        "        if aliceKey[i] != bobKey[i] {\n",
        "            return false;\n",
        "        }\n",
        "    }\n",
        "\n",
        "    return true;\n",
        "}"
      ]
    },
    {
      "cell_type": "markdown",
      "metadata": {
        "id": "RrULa3k6ZjSX",
        "nteract": {
          "transient": {
            "deleting": false
          }
        }
      },
      "source": [
        "### **Running the Full Protocol**\n",
        "\n",
        "In the space below, we combine all these components to run the protocol in full for Alice and Bob."
      ]
    },
    {
      "cell_type": "code",
      "execution_count": 49,
      "metadata": {
        "id": "hsuQujU3pUYt",
        "jupyter": {
          "outputs_hidden": false,
          "source_hidden": false
        },
        "nteract": {
          "transient": {
            "deleting": false
          }
        }
      },
      "outputs": [],
      "source": [
        "keyLength = 10\n",
        "\n",
        "# STEPS #1 - 2\n",
        "aliceBits = GetAliceBits.simulate(keyLength = keyLength)\n",
        "aliceChoices = GetAliceChoices(keyLength = keyLength)\n",
        "\n",
        "print(\"Alice's bits: \" + str(aliceBits))\n",
        "print(\"Alice's choices: \" + str(aliceChoices))\n",
        "print(\"\\n\")\n",
        "\n",
        "\n",
        "# STEPS #3 - 5\n",
        "bobChoices = GetBobChoices.simulate(keyLength = keyLength)\n",
        "bobBits = SendAliceBob.simulate(aliceBits = aliceBits, aliceChoices = aliceChoices, bobChoices = bobChoices)\n",
        "\n",
        "print(\"Bob's choices: \" + str(bobChoices))\n",
        "print(\"Bob's bits: \" + str(bobBits))\n",
        "print(\"\\n\")\n",
        "\n",
        "\n",
        "# STEP #6\n",
        "aliceKey = GenerateKey.simulate(bits = aliceBits, aliceChoices = aliceChoices, bobChoices = bobChoices)\n",
        "bobKey = GenerateKey.simulate(bits = bobBits, aliceChoices = aliceChoices, bobChoices = bobChoices)\n",
        "\n",
        "print(\"Alice's key: \" + str(aliceKey))\n",
        "print(\"Bob's key: \" + str(bobKey))\n",
        "print(\"\\n\")\n",
        "\n",
        "\n",
        "# STEP #7\n",
        "if IsSecureKey.simulate(aliceKey = aliceKey, bobKey = bobKey):\n",
        "\n",
        "    aliceKey = aliceKey[len(aliceKey) // 2: ]\n",
        "    bobKey = bobKey[len(bobKey) // 2: ]\n",
        "\n",
        "    print(\"Key seems secure! They will now use: \")\n",
        "    print(\"Alice's key: \" + str(aliceKey))\n",
        "    print(\"Bob's key: \" + str(bobKey))\n",
        "\n",
        "else:\n",
        "    print(\"Alice and Bob have detected Eve's interception!\")"
      ]
    },
    {
      "cell_type": "markdown",
      "metadata": {
        "id": "NTZydyoTpUYu",
        "nteract": {
          "transient": {
            "deleting": false
          }
        }
      },
      "source": [
        "---\n",
        "\n",
        "<center>\n",
        "\n",
        "### **Congratulations! You have just implemented the Full BB84 protocol between Alice and Bob in Q#.**\n",
        "\n",
        "</center>\n",
        "\n",
        "---"
      ]
    }
  ],
  "metadata": {
    "colab": {
      "provenance": []
    },
    "kernel_info": {
      "name": "python3"
    },
    "kernelspec": {
      "display_name": "Python 3 (ipykernel)",
      "language": "python",
      "name": "python3"
    },
    "language_info": {
      "codemirror_mode": {
        "name": "ipython",
        "version": 3
      },
      "file_extension": ".py",
      "mimetype": "text/x-python",
      "name": "python",
      "nbconvert_exporter": "python",
      "pygments_lexer": "ipython3",
      "version": "3.9.16"
    },
    "microsoft": {
      "host": {
        "AzureQuantum": {
          "sourceLink": "https://raw.githubusercontent.com/microsoft/Quantum/f7d76cc28219b577404437b993a8fdfdc0dad33e/samples/azure-quantum/parallel-qrng/ParallelQrng.ipynb",
          "sourceType": "SampleGallery"
        }
      }
    },
    "nteract": {
      "version": "nteract-front-end@1.0.0"
    }
  },
  "nbformat": 4,
  "nbformat_minor": 0
}
